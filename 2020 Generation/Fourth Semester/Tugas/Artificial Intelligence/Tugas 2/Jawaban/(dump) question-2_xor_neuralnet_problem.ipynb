{
 "cells": [
  {
   "cell_type": "code",
   "execution_count": 1,
   "metadata": {},
   "outputs": [],
   "source": [
    "# Cycles through the data indefinitely\n",
    "# until it manages to correctly classify.\n",
    "from itertools import cycle\n",
    "import matplotlib.pyplot as plt\n",
    "import seaborn as sns\n",
    "import numpy as np"
   ]
  },
  {
   "cell_type": "code",
   "execution_count": 2,
   "metadata": {},
   "outputs": [],
   "source": [
    "sns.set_style('darkgrid')\n",
    "sns.set_context('poster')\n",
    "plt.rcParams[\"figure.figsize\"] = [20, 10]"
   ]
  },
  {
   "cell_type": "code",
   "execution_count": 3,
   "metadata": {},
   "outputs": [],
   "source": [
    "class Perceptron:\n",
    "    \"\"\"\n",
    "    train_data: 4x2 matrix as the input\n",
    "    target: 4x1 matrix as the expected output\n",
    "    alpha: as the learning rate\n",
    "    input_nodes: of course the input_nodes will be 2 because we have 2 input data\n",
    "    \"\"\"\n",
    "\n",
    "    def __init__(self, train_data, target, alpha=0.01, input_nodes=2):\n",
    "        self.train_data = train_data\n",
    "        self.target = target\n",
    "        self.alpha = alpha\n",
    "        self.input_nodes = input_nodes\n",
    "\n",
    "        # init weight randomly\n",
    "        self.weight = np.random.uniform(size=self.input_nodes)\n",
    "        self.bias = 1\n",
    "\n",
    "        # each node will hold the values at a give point of time\n",
    "        # np.zeros will return an array fill with zeros\n",
    "        # Example: np.zeros(5) will output array([0, 0, 0, 0, 0])\n",
    "        self.node_val = np.zeros(self.input_nodes)\n",
    "\n",
    "        # tracks how the number consecutively correct\n",
    "        # classification in each iteration\n",
    "        self.correct_iter = [0]\n",
    "\n",
    "    def _gradient(self, node, exp, output):\n",
    "        \"\"\"\n",
    "        return the gradient for a weight a.k.a delta-w\n",
    "        \"\"\"\n",
    "        return node * (exp - output)\n",
    "    \n",
    "    def update_weights(self, exp, output):\n",
    "        # Update weights and bias based on their respective gradients\n",
    "        for i in range(self.input_nodes):\n",
    "            self.weight[i] += self.alpha * self._gradient(self.node_val[i], exp, output)\n",
    "        self.bias += self.alpha * self._gradient(self.bias, exp, output)\n",
    "\n",
    "    def forward_prop(self, datapoint):\n",
    "        \"\"\"\n",
    "        wX + b\n",
    "\n",
    "        where:\n",
    "            w => weight\n",
    "            X => input\n",
    "            b => bias\n",
    "        \"\"\"\n",
    "        # np.dot() returns the dot product\n",
    "        return self.bias + np.dot(self.weight, datapoint)\n",
    "\n",
    "    def classify(self, datapoint):\n",
    "        if self.forward_prop(datapoint) >= 0:\n",
    "            return 1\n",
    "        return 0\n",
    "\n",
    "    def plot(self, h=0.01):\n",
    "        \"\"\"\n",
    "        generate plot of input data and decision boundary\n",
    "        \"\"\"\n",
    "        sns.set_style('darkgrid')\n",
    "        plt.figure(figsize=(20, 20))\n",
    "\n",
    "        plt.axis('scaled')\n",
    "        plt.xlim(-0.1, 1.1)\n",
    "        plt.ylim(-0.1, 1.1)\n",
    "\n",
    "        colors = {0: 'ro', 1: 'bo'}\n",
    "\n",
    "        # plotting the four data points\n",
    "        for i in range(len(self.train_data)):\n",
    "            plt.plot([self.train_data[i][0]], [self.train_data[i][1]], colors[self.target[i][0]], markersize=20)\n",
    "        x_range = np.arange(-0.1, 1.1, h)\n",
    "        y_range = np.arange(-0.1, 1.1, h)\n",
    "\n",
    "        # create mesh\n",
    "        xx, yy = np.meshgrid(x_range, y_range, indexing='ij')\n",
    "        Z = np.array([[self.classify([x, y]) for x in x_range] for y in y_range])\n",
    "\n",
    "        plt.contour(xx, yy, Z, colors=['red', 'green', 'green', 'blue'], alpha=0.4)\n",
    "\n",
    "    def train(self):\n",
    "        correct_counter = 0\n",
    "\n",
    "        for train, target in cycle(zip(self.train_data, self.target)):\n",
    "            # end if all points are correctly classified\n",
    "            if correct_counter == len(self.train_data):\n",
    "                break\n",
    "\n",
    "            output = self.classify(train)\n",
    "            self.node_val = train\n",
    "\n",
    "            if output == target:\n",
    "                correct_counter += 1\n",
    "            else:\n",
    "                # update weights and reset correct_counter if incorrectly classified\n",
    "                self.update_weights(target, output)\n",
    "                correct_counter = 0\n",
    "            \n",
    "            self.correct_iter.append(correct_counter)"
   ]
  },
  {
   "cell_type": "code",
   "execution_count": 4,
   "metadata": {},
   "outputs": [],
   "source": [
    "# data 4x2 matrix\n",
    "train_data = np.array([\n",
    "[0, 0], \n",
    "[0, 1], \n",
    "[1, 0], \n",
    "[1, 1]])\n",
    "\n",
    "target_xor = np.array([\n",
    "[0], \n",
    "[1], \n",
    "[1], \n",
    "[0]])"
   ]
  },
  {
   "cell_type": "code",
   "execution_count": 5,
   "metadata": {},
   "outputs": [
    {
     "ename": "KeyboardInterrupt",
     "evalue": "",
     "output_type": "error",
     "traceback": [
      "\u001b[1;31m---------------------------------------------------------------------------\u001b[0m",
      "\u001b[1;31mKeyboardInterrupt\u001b[0m                         Traceback (most recent call last)",
      "\u001b[1;32mi:\\AndrewData\\College\\Semester 4\\Tugas\\Artificial Intelligence\\Tugas 2\\Jawaban\\question-2_xor_neuralnet_problem.ipynb Cell 5'\u001b[0m in \u001b[0;36m<cell line: 2>\u001b[1;34m()\u001b[0m\n\u001b[0;32m      <a href='vscode-notebook-cell:/i%3A/AndrewData/College/Semester%204/Tugas/Artificial%20Intelligence/Tugas%202/Jawaban/question-2_xor_neuralnet_problem.ipynb#ch0000004?line=0'>1</a>\u001b[0m p_xor \u001b[39m=\u001b[39m Perceptron(train_data, target_xor)\n\u001b[1;32m----> <a href='vscode-notebook-cell:/i%3A/AndrewData/College/Semester%204/Tugas/Artificial%20Intelligence/Tugas%202/Jawaban/question-2_xor_neuralnet_problem.ipynb#ch0000004?line=1'>2</a>\u001b[0m p_xor\u001b[39m.\u001b[39;49mtrain()\n",
      "\u001b[1;32mi:\\AndrewData\\College\\Semester 4\\Tugas\\Artificial Intelligence\\Tugas 2\\Jawaban\\question-2_xor_neuralnet_problem.ipynb Cell 3'\u001b[0m in \u001b[0;36mPerceptron.train\u001b[1;34m(self)\u001b[0m\n\u001b[0;32m     <a href='vscode-notebook-cell:/i%3A/AndrewData/College/Semester%204/Tugas/Artificial%20Intelligence/Tugas%202/Jawaban/question-2_xor_neuralnet_problem.ipynb#ch0000002?line=93'>94</a>\u001b[0m     correct_counter \u001b[39m+\u001b[39m\u001b[39m=\u001b[39m \u001b[39m1\u001b[39m\n\u001b[0;32m     <a href='vscode-notebook-cell:/i%3A/AndrewData/College/Semester%204/Tugas/Artificial%20Intelligence/Tugas%202/Jawaban/question-2_xor_neuralnet_problem.ipynb#ch0000002?line=94'>95</a>\u001b[0m \u001b[39melse\u001b[39;00m:\n\u001b[0;32m     <a href='vscode-notebook-cell:/i%3A/AndrewData/College/Semester%204/Tugas/Artificial%20Intelligence/Tugas%202/Jawaban/question-2_xor_neuralnet_problem.ipynb#ch0000002?line=95'>96</a>\u001b[0m     \u001b[39m# update weights and reset correct_counter if incorrectly classified\u001b[39;00m\n\u001b[1;32m---> <a href='vscode-notebook-cell:/i%3A/AndrewData/College/Semester%204/Tugas/Artificial%20Intelligence/Tugas%202/Jawaban/question-2_xor_neuralnet_problem.ipynb#ch0000002?line=96'>97</a>\u001b[0m     \u001b[39mself\u001b[39;49m\u001b[39m.\u001b[39;49mupdate_weights(target, output)\n\u001b[0;32m     <a href='vscode-notebook-cell:/i%3A/AndrewData/College/Semester%204/Tugas/Artificial%20Intelligence/Tugas%202/Jawaban/question-2_xor_neuralnet_problem.ipynb#ch0000002?line=97'>98</a>\u001b[0m     correct_counter \u001b[39m=\u001b[39m \u001b[39m0\u001b[39m\n\u001b[0;32m    <a href='vscode-notebook-cell:/i%3A/AndrewData/College/Semester%204/Tugas/Artificial%20Intelligence/Tugas%202/Jawaban/question-2_xor_neuralnet_problem.ipynb#ch0000002?line=99'>100</a>\u001b[0m \u001b[39mself\u001b[39m\u001b[39m.\u001b[39mcorrect_iter\u001b[39m.\u001b[39mappend(correct_counter)\n",
      "\u001b[1;32mi:\\AndrewData\\College\\Semester 4\\Tugas\\Artificial Intelligence\\Tugas 2\\Jawaban\\question-2_xor_neuralnet_problem.ipynb Cell 3'\u001b[0m in \u001b[0;36mPerceptron.update_weights\u001b[1;34m(self, exp, output)\u001b[0m\n\u001b[0;32m     <a href='vscode-notebook-cell:/i%3A/AndrewData/College/Semester%204/Tugas/Artificial%20Intelligence/Tugas%202/Jawaban/question-2_xor_neuralnet_problem.ipynb#ch0000002?line=33'>34</a>\u001b[0m \u001b[39mdef\u001b[39;00m \u001b[39mupdate_weights\u001b[39m(\u001b[39mself\u001b[39m, exp, output):\n\u001b[0;32m     <a href='vscode-notebook-cell:/i%3A/AndrewData/College/Semester%204/Tugas/Artificial%20Intelligence/Tugas%202/Jawaban/question-2_xor_neuralnet_problem.ipynb#ch0000002?line=34'>35</a>\u001b[0m     \u001b[39m# Update weights and bias based on their respective gradients\u001b[39;00m\n\u001b[0;32m     <a href='vscode-notebook-cell:/i%3A/AndrewData/College/Semester%204/Tugas/Artificial%20Intelligence/Tugas%202/Jawaban/question-2_xor_neuralnet_problem.ipynb#ch0000002?line=35'>36</a>\u001b[0m     \u001b[39mfor\u001b[39;00m i \u001b[39min\u001b[39;00m \u001b[39mrange\u001b[39m(\u001b[39mself\u001b[39m\u001b[39m.\u001b[39minput_nodes):\n\u001b[1;32m---> <a href='vscode-notebook-cell:/i%3A/AndrewData/College/Semester%204/Tugas/Artificial%20Intelligence/Tugas%202/Jawaban/question-2_xor_neuralnet_problem.ipynb#ch0000002?line=36'>37</a>\u001b[0m         \u001b[39mself\u001b[39m\u001b[39m.\u001b[39mweight[i] \u001b[39m+\u001b[39m\u001b[39m=\u001b[39m \u001b[39mself\u001b[39m\u001b[39m.\u001b[39malpha \u001b[39m*\u001b[39m \u001b[39mself\u001b[39m\u001b[39m.\u001b[39m_gradient(\u001b[39mself\u001b[39m\u001b[39m.\u001b[39mnode_val[i], exp, output)\n\u001b[0;32m     <a href='vscode-notebook-cell:/i%3A/AndrewData/College/Semester%204/Tugas/Artificial%20Intelligence/Tugas%202/Jawaban/question-2_xor_neuralnet_problem.ipynb#ch0000002?line=37'>38</a>\u001b[0m     \u001b[39mself\u001b[39m\u001b[39m.\u001b[39mbias \u001b[39m+\u001b[39m\u001b[39m=\u001b[39m \u001b[39mself\u001b[39m\u001b[39m.\u001b[39malpha \u001b[39m*\u001b[39m \u001b[39mself\u001b[39m\u001b[39m.\u001b[39m_gradient(\u001b[39mself\u001b[39m\u001b[39m.\u001b[39mbias, exp, output)\n",
      "\u001b[1;31mKeyboardInterrupt\u001b[0m: "
     ]
    }
   ],
   "source": [
    "p_xor = Perceptron(train_data, target_xor)\n",
    "p_xor.train()"
   ]
  },
  {
   "cell_type": "code",
   "execution_count": null,
   "metadata": {},
   "outputs": [],
   "source": [
    "_ = plt.plot(p_xor.correct_iter[:100])"
   ]
  },
  {
   "cell_type": "code",
   "execution_count": null,
   "metadata": {},
   "outputs": [],
   "source": [
    "_ = p_xor.plot()"
   ]
  }
 ],
 "metadata": {
  "interpreter": {
   "hash": "35c4bcfff6bb594ff47b51ce5b21bcb1093d06fa0c5debe7002e3be5d50f4cc1"
  },
  "kernelspec": {
   "display_name": "Python 3.10.4 64-bit",
   "language": "python",
   "name": "python3"
  },
  "language_info": {
   "codemirror_mode": {
    "name": "ipython",
    "version": 3
   },
   "file_extension": ".py",
   "mimetype": "text/x-python",
   "name": "python",
   "nbconvert_exporter": "python",
   "pygments_lexer": "ipython3",
   "version": "3.10.4"
  },
  "orig_nbformat": 4
 },
 "nbformat": 4,
 "nbformat_minor": 2
}
